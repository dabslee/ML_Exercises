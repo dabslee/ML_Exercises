{
 "cells": [
  {
   "cell_type": "markdown",
   "metadata": {},
   "source": [
    "### Import necessary libraries and set up environment."
   ]
  },
  {
   "cell_type": "code",
   "execution_count": 1,
   "metadata": {},
   "outputs": [
    {
     "data": {
      "text/plain": [
       "<contextlib.ExitStack at 0x1d66f92a510>"
      ]
     },
     "execution_count": 1,
     "metadata": {},
     "output_type": "execute_result"
    }
   ],
   "source": [
    "import gymnasium as gym\n",
    "import matplotlib.pyplot as plt\n",
    "import collections\n",
    "import torch\n",
    "import skirmish_env\n",
    "import numpy as np\n",
    "import itertools\n",
    "import IPython\n",
    "import random\n",
    "\n",
    "# set up the gym environment\n",
    "env = gym.make(\"skirmish_env:Skirmish-v0\", render_mode=None)\n",
    "# enable plot interactive mode\n",
    "plt.ion()"
   ]
  },
  {
   "cell_type": "markdown",
   "metadata": {},
   "source": [
    "### Define training parameters."
   ]
  },
  {
   "cell_type": "code",
   "execution_count": 2,
   "metadata": {},
   "outputs": [],
   "source": [
    "BATCH_SIZE = 128 # number of transitions sampled from the replay buffer\n",
    "GAMMA = 0.99 # time discount factor\n",
    "EPS_START = 0.9 # epsilon start value\n",
    "EPS_END = 0.05 # epsilon end value\n",
    "EPS_DECAY = 1000 # epsilon decay control (higher = slower decay)\n",
    "TAU = 0.005 # update rate of target network\n",
    "LR = 1e-4 # optimizer learning rate\n",
    "EPISODES = 1000 # number of training episodes\n",
    "MA_FRAME = 100 # moving average frame"
   ]
  },
  {
   "cell_type": "markdown",
   "metadata": {},
   "source": [
    "### Create `ReplayMemory` object to collect training data and `DQN` for the Q function NN estimator."
   ]
  },
  {
   "cell_type": "code",
   "execution_count": 3,
   "metadata": {},
   "outputs": [],
   "source": [
    "Transition = collections.namedtuple('Transition', ('state', 'action', 'next_state', 'reward'))\n",
    "class ReplayMemory(object):\n",
    "    def __init__(self, capacity):\n",
    "        self.memory = collections.deque([], maxlen=capacity)\n",
    "    def push(self, *args):\n",
    "        self.memory.append(Transition(*args))\n",
    "    def sample(self, batch_size):\n",
    "        return random.sample(self.memory, batch_size)\n",
    "    def __len__(self):\n",
    "        return len(self.memory)\n",
    "    \n",
    "class DQN(torch.nn.Module):\n",
    "    def __init__(self, n_observations, n_actions):\n",
    "        super(DQN, self).__init__()\n",
    "        self.layer1 = torch.nn.Linear(n_observations, 128)\n",
    "        self.layer2 = torch.nn.Linear(128, 128)\n",
    "        self.layer3 = torch.nn.Linear(128, n_actions)\n",
    "    def forward(self, x):\n",
    "        x = torch.nn.functional.relu(self.layer1(x))\n",
    "        x = torch.nn.functional.relu(self.layer2(x))\n",
    "        return self.layer3(x)"
   ]
  },
  {
   "cell_type": "markdown",
   "metadata": {},
   "source": [
    "### Set up `ReplayMemory`, DQN, and optimizer objects."
   ]
  },
  {
   "cell_type": "code",
   "execution_count": 4,
   "metadata": {},
   "outputs": [
    {
     "name": "stderr",
     "output_type": "stream",
     "text": [
      "C:\\Users\\brand\\AppData\\Local\\Packages\\PythonSoftwareFoundation.Python.3.11_qbz5n2kfra8p0\\LocalCache\\local-packages\\Python311\\site-packages\\gymnasium\\utils\\passive_env_checker.py:135: UserWarning: \u001b[33mWARN: The obs returned by the `reset()` method was expecting numpy array dtype to be float32, actual type: float64\u001b[0m\n",
      "  logger.warn(\n",
      "C:\\Users\\brand\\AppData\\Local\\Packages\\PythonSoftwareFoundation.Python.3.11_qbz5n2kfra8p0\\LocalCache\\local-packages\\Python311\\site-packages\\gymnasium\\utils\\passive_env_checker.py:159: UserWarning: \u001b[33mWARN: The obs returned by the `reset()` method is not within the observation space.\u001b[0m\n",
      "  logger.warn(f\"{pre} is not within the observation space.\")\n"
     ]
    }
   ],
   "source": [
    "state, info = env.reset()\n",
    "n_actions = env.action_space.n\n",
    "n_observations = len(state)\n",
    "\n",
    "policy_net = DQN(n_observations, n_actions)\n",
    "target_net = DQN(n_observations, n_actions)\n",
    "target_net.load_state_dict(policy_net.state_dict())\n",
    "optimizer = torch.optim.AdamW(policy_net.parameters(), lr=LR, amsgrad=True)\n",
    "memory = ReplayMemory(10000)"
   ]
  },
  {
   "cell_type": "markdown",
   "metadata": {},
   "source": [
    "### Training loop"
   ]
  },
  {
   "cell_type": "code",
   "execution_count": 5,
   "metadata": {},
   "outputs": [],
   "source": [
    "def optimize_model():\n",
    "    # check that there's enough training data to optimize the model\n",
    "    if len(memory) < BATCH_SIZE:\n",
    "        return\n",
    "    \n",
    "    # take a batch sample from the training data\n",
    "    transitions = memory.sample(BATCH_SIZE)\n",
    "    batch = Transition(*zip(*transitions))\n",
    "    non_final_mask = torch.tensor(tuple(map(lambda s: s is not None, batch.next_state)), dtype=torch.bool)\n",
    "    non_final_next_states = torch.cat([s for s in batch.next_state if s is not None])\n",
    "    state_batch = torch.cat(batch.state)\n",
    "    action_batch = torch.cat(batch.action)\n",
    "    reward_batch = torch.cat(batch.reward)\n",
    "\n",
    "    # compute Q(state, action) for the batch sample\n",
    "    state_action_values = policy_net(state_batch).gather(1, action_batch)\n",
    "    # compute V(next_state) for the batch sample, using the \"older\" target_net\n",
    "    next_state_values = torch.zeros(BATCH_SIZE)\n",
    "    with torch.no_grad():\n",
    "        next_state_values[non_final_mask] = target_net(non_final_next_states).max(1).values\n",
    "    # compute the expected Q values\n",
    "    expected_state_action_values = (next_state_values * GAMMA) + reward_batch\n",
    "    # compute Huber loss\n",
    "    criterion = torch.nn.SmoothL1Loss()\n",
    "    loss = criterion(state_action_values, expected_state_action_values.unsqueeze(1))\n",
    "\n",
    "    # Optimize the model\n",
    "    optimizer.zero_grad()\n",
    "    loss.backward()\n",
    "    # In-place gradient clipping\n",
    "    torch.nn.utils.clip_grad_value_(policy_net.parameters(), 100)\n",
    "    optimizer.step()"
   ]
  },
  {
   "cell_type": "code",
   "execution_count": 6,
   "metadata": {},
   "outputs": [],
   "source": [
    "def plot_results(i_episode, episode_rewards):\n",
    "    plt.figure(1)\n",
    "    plt.clf()\n",
    "    plt.title(f'Moving average of last {MA_FRAME} episodes')\n",
    "    plt.xlabel('Episode')\n",
    "    plt.ylabel('Average Reward')\n",
    "    plt.plot( # average rewards\n",
    "        np.arange(0, i_episode, step=1),\n",
    "        np.array([np.mean(episode_rewards[np.max(i+1-MA_FRAME, 0):i+1]) for i in range(i_episode)]),\n",
    "        label=\"Average rewards\"\n",
    "    )\n",
    "    plt.plot( # win percentage\n",
    "        np.arange(0, i_episode, step=1),\n",
    "        np.array([np.mean(episode_rewards[np.max(i+1-MA_FRAME, 0):i+1] == 10) for i in range(i_episode)]),\n",
    "        label=\"Win proportion\"\n",
    "    )\n",
    "    plt.plot( # lose or tie percentage\n",
    "        np.arange(0, i_episode, step=1),\n",
    "        np.array([np.mean(episode_rewards[np.max(i+1-MA_FRAME, 0):i+1] == 0) for i in range(i_episode)]),\n",
    "        label=\"Lose proportion\"\n",
    "    )\n",
    "    plt.legend()\n",
    "    plt.pause(0.001)"
   ]
  },
  {
   "cell_type": "code",
   "execution_count": 7,
   "metadata": {},
   "outputs": [
    {
     "data": {
      "image/png": "[encoded data removed]",
      "text/plain": [
       "<Figure size 640x480 with 1 Axes>"
      ]
     },
     "metadata": {},
     "output_type": "display_data"
    },
    {
     "ename": "KeyboardInterrupt",
     "evalue": "",
     "output_type": "error",
     "traceback": [
      "\u001b[1;31m---------------------------------------------------------------------------\u001b[0m",
      "\u001b[1;31mKeyboardInterrupt\u001b[0m                         Traceback (most recent call last)",
      "Cell \u001b[1;32mIn[7], line 49\u001b[0m\n\u001b[0;32m     47\u001b[0m \u001b[38;5;28;01mif\u001b[39;00m PLOT:\n\u001b[0;32m     48\u001b[0m     plot_results(i_episode, episode_rewards)\n\u001b[1;32m---> 49\u001b[0m     \u001b[43mIPython\u001b[49m\u001b[38;5;241;43m.\u001b[39;49m\u001b[43mdisplay\u001b[49m\u001b[38;5;241;43m.\u001b[39;49m\u001b[43mdisplay\u001b[49m\u001b[43m(\u001b[49m\u001b[43mplt\u001b[49m\u001b[38;5;241;43m.\u001b[39;49m\u001b[43mgcf\u001b[49m\u001b[43m(\u001b[49m\u001b[43m)\u001b[49m\u001b[43m)\u001b[49m\n\u001b[0;32m     50\u001b[0m     IPython\u001b[38;5;241m.\u001b[39mdisplay\u001b[38;5;241m.\u001b[39mclear_output(wait\u001b[38;5;241m=\u001b[39m\u001b[38;5;28;01mTrue\u001b[39;00m)\n\u001b[0;32m     51\u001b[0m \u001b[38;5;28;01mbreak\u001b[39;00m\n",
      "File \u001b[1;32m~\\AppData\\Local\\Packages\\PythonSoftwareFoundation.Python.3.11_qbz5n2kfra8p0\\LocalCache\\local-packages\\Python311\\site-packages\\IPython\\core\\display_functions.py:305\u001b[0m, in \u001b[0;36mdisplay\u001b[1;34m(include, exclude, metadata, transient, display_id, raw, clear, *objs, **kwargs)\u001b[0m\n\u001b[0;32m    302\u001b[0m         \u001b[38;5;28;01mif\u001b[39;00m metadata:\n\u001b[0;32m    303\u001b[0m             \u001b[38;5;66;03m# kwarg-specified metadata gets precedence\u001b[39;00m\n\u001b[0;32m    304\u001b[0m             _merge(md_dict, metadata)\n\u001b[1;32m--> 305\u001b[0m         \u001b[43mpublish_display_data\u001b[49m\u001b[43m(\u001b[49m\u001b[43mdata\u001b[49m\u001b[38;5;241;43m=\u001b[39;49m\u001b[43mformat_dict\u001b[49m\u001b[43m,\u001b[49m\u001b[43m \u001b[49m\u001b[43mmetadata\u001b[49m\u001b[38;5;241;43m=\u001b[39;49m\u001b[43mmd_dict\u001b[49m\u001b[43m,\u001b[49m\u001b[43m \u001b[49m\u001b[38;5;241;43m*\u001b[39;49m\u001b[38;5;241;43m*\u001b[39;49m\u001b[43mkwargs\u001b[49m\u001b[43m)\u001b[49m\n\u001b[0;32m    306\u001b[0m \u001b[38;5;28;01mif\u001b[39;00m display_id:\n\u001b[0;32m    307\u001b[0m     \u001b[38;5;28;01mreturn\u001b[39;00m DisplayHandle(display_id)\n",
      "File \u001b[1;32m~\\AppData\\Local\\Packages\\PythonSoftwareFoundation.Python.3.11_qbz5n2kfra8p0\\LocalCache\\local-packages\\Python311\\site-packages\\IPython\\core\\display_functions.py:93\u001b[0m, in \u001b[0;36mpublish_display_data\u001b[1;34m(data, metadata, source, transient, **kwargs)\u001b[0m\n\u001b[0;32m     90\u001b[0m \u001b[38;5;28;01mif\u001b[39;00m transient:\n\u001b[0;32m     91\u001b[0m     kwargs[\u001b[38;5;124m'\u001b[39m\u001b[38;5;124mtransient\u001b[39m\u001b[38;5;124m'\u001b[39m] \u001b[38;5;241m=\u001b[39m transient\n\u001b[1;32m---> 93\u001b[0m \u001b[43mdisplay_pub\u001b[49m\u001b[38;5;241;43m.\u001b[39;49m\u001b[43mpublish\u001b[49m\u001b[43m(\u001b[49m\n\u001b[0;32m     94\u001b[0m \u001b[43m    \u001b[49m\u001b[43mdata\u001b[49m\u001b[38;5;241;43m=\u001b[39;49m\u001b[43mdata\u001b[49m\u001b[43m,\u001b[49m\n\u001b[0;32m     95\u001b[0m \u001b[43m    \u001b[49m\u001b[43mmetadata\u001b[49m\u001b[38;5;241;43m=\u001b[39;49m\u001b[43mmetadata\u001b[49m\u001b[43m,\u001b[49m\n\u001b[0;32m     96\u001b[0m \u001b[43m    \u001b[49m\u001b[38;5;241;43m*\u001b[39;49m\u001b[38;5;241;43m*\u001b[39;49m\u001b[43mkwargs\u001b[49m\n\u001b[0;32m     97\u001b[0m \u001b[43m\u001b[49m\u001b[43m)\u001b[49m\n",
      "File \u001b[1;32m~\\AppData\\Local\\Packages\\PythonSoftwareFoundation.Python.3.11_qbz5n2kfra8p0\\LocalCache\\local-packages\\Python311\\site-packages\\ipykernel\\zmqshell.py:102\u001b[0m, in \u001b[0;36mZMQDisplayPublisher.publish\u001b[1;34m(self, data, metadata, transient, update)\u001b[0m\n\u001b[0;32m     80\u001b[0m \u001b[38;5;28;01mdef\u001b[39;00m \u001b[38;5;21mpublish\u001b[39m(\n\u001b[0;32m     81\u001b[0m     \u001b[38;5;28mself\u001b[39m,\n\u001b[0;32m     82\u001b[0m     data,\n\u001b[1;32m   (...)\u001b[0m\n\u001b[0;32m     85\u001b[0m     update\u001b[38;5;241m=\u001b[39m\u001b[38;5;28;01mFalse\u001b[39;00m,\n\u001b[0;32m     86\u001b[0m ):\n\u001b[0;32m     87\u001b[0m \u001b[38;5;250m    \u001b[39m\u001b[38;5;124;03m\"\"\"Publish a display-data message\u001b[39;00m\n\u001b[0;32m     88\u001b[0m \n\u001b[0;32m     89\u001b[0m \u001b[38;5;124;03m    Parameters\u001b[39;00m\n\u001b[1;32m   (...)\u001b[0m\n\u001b[0;32m    100\u001b[0m \u001b[38;5;124;03m        If True, send an update_display_data message instead of display_data.\u001b[39;00m\n\u001b[0;32m    101\u001b[0m \u001b[38;5;124;03m    \"\"\"\u001b[39;00m\n\u001b[1;32m--> 102\u001b[0m     \u001b[38;5;28;43mself\u001b[39;49m\u001b[38;5;241;43m.\u001b[39;49m\u001b[43m_flush_streams\u001b[49m\u001b[43m(\u001b[49m\u001b[43m)\u001b[49m\n\u001b[0;32m    103\u001b[0m     \u001b[38;5;28;01mif\u001b[39;00m metadata \u001b[38;5;129;01mis\u001b[39;00m \u001b[38;5;28;01mNone\u001b[39;00m:\n\u001b[0;32m    104\u001b[0m         metadata \u001b[38;5;241m=\u001b[39m {}\n",
      "File \u001b[1;32m~\\AppData\\Local\\Packages\\PythonSoftwareFoundation.Python.3.11_qbz5n2kfra8p0\\LocalCache\\local-packages\\Python311\\site-packages\\ipykernel\\zmqshell.py:65\u001b[0m, in \u001b[0;36mZMQDisplayPublisher._flush_streams\u001b[1;34m(self)\u001b[0m\n\u001b[0;32m     63\u001b[0m \u001b[38;5;28;01mdef\u001b[39;00m \u001b[38;5;21m_flush_streams\u001b[39m(\u001b[38;5;28mself\u001b[39m):\n\u001b[0;32m     64\u001b[0m \u001b[38;5;250m    \u001b[39m\u001b[38;5;124;03m\"\"\"flush IO Streams prior to display\"\"\"\u001b[39;00m\n\u001b[1;32m---> 65\u001b[0m     \u001b[43msys\u001b[49m\u001b[38;5;241;43m.\u001b[39;49m\u001b[43mstdout\u001b[49m\u001b[38;5;241;43m.\u001b[39;49m\u001b[43mflush\u001b[49m\u001b[43m(\u001b[49m\u001b[43m)\u001b[49m\n\u001b[0;32m     66\u001b[0m     sys\u001b[38;5;241m.\u001b[39mstderr\u001b[38;5;241m.\u001b[39mflush()\n",
      "File \u001b[1;32m~\\AppData\\Local\\Packages\\PythonSoftwareFoundation.Python.3.11_qbz5n2kfra8p0\\LocalCache\\local-packages\\Python311\\site-packages\\ipykernel\\iostream.py:492\u001b[0m, in \u001b[0;36mOutStream.flush\u001b[1;34m(self)\u001b[0m\n\u001b[0;32m    481\u001b[0m \u001b[38;5;250m\u001b[39m\u001b[38;5;124;03m\"\"\"trigger actual zmq send\u001b[39;00m\n\u001b[0;32m    482\u001b[0m \n\u001b[0;32m    483\u001b[0m \u001b[38;5;124;03msend will happen in the background thread\u001b[39;00m\n\u001b[0;32m    484\u001b[0m \u001b[38;5;124;03m\"\"\"\u001b[39;00m\n\u001b[0;32m    485\u001b[0m \u001b[38;5;28;01mif\u001b[39;00m (\n\u001b[0;32m    486\u001b[0m     \u001b[38;5;28mself\u001b[39m\u001b[38;5;241m.\u001b[39mpub_thread\n\u001b[0;32m    487\u001b[0m     \u001b[38;5;129;01mand\u001b[39;00m \u001b[38;5;28mself\u001b[39m\u001b[38;5;241m.\u001b[39mpub_thread\u001b[38;5;241m.\u001b[39mthread \u001b[38;5;129;01mis\u001b[39;00m \u001b[38;5;129;01mnot\u001b[39;00m \u001b[38;5;28;01mNone\u001b[39;00m\n\u001b[1;32m   (...)\u001b[0m\n\u001b[0;32m    490\u001b[0m ):\n\u001b[0;32m    491\u001b[0m     \u001b[38;5;66;03m# request flush on the background thread\u001b[39;00m\n\u001b[1;32m--> 492\u001b[0m     \u001b[38;5;28;43mself\u001b[39;49m\u001b[38;5;241;43m.\u001b[39;49m\u001b[43mpub_thread\u001b[49m\u001b[38;5;241;43m.\u001b[39;49m\u001b[43mschedule\u001b[49m\u001b[43m(\u001b[49m\u001b[38;5;28;43mself\u001b[39;49m\u001b[38;5;241;43m.\u001b[39;49m\u001b[43m_flush\u001b[49m\u001b[43m)\u001b[49m\n\u001b[0;32m    493\u001b[0m     \u001b[38;5;66;03m# wait for flush to actually get through, if we can.\u001b[39;00m\n\u001b[0;32m    494\u001b[0m     evt \u001b[38;5;241m=\u001b[39m threading\u001b[38;5;241m.\u001b[39mEvent()\n",
      "File \u001b[1;32m~\\AppData\\Local\\Packages\\PythonSoftwareFoundation.Python.3.11_qbz5n2kfra8p0\\LocalCache\\local-packages\\Python311\\site-packages\\ipykernel\\iostream.py:211\u001b[0m, in \u001b[0;36mIOPubThread.schedule\u001b[1;34m(self, f)\u001b[0m\n\u001b[0;32m    209\u001b[0m     \u001b[38;5;28mself\u001b[39m\u001b[38;5;241m.\u001b[39m_events\u001b[38;5;241m.\u001b[39mappend(f)\n\u001b[0;32m    210\u001b[0m     \u001b[38;5;66;03m# wake event thread (message content is ignored)\u001b[39;00m\n\u001b[1;32m--> 211\u001b[0m     \u001b[38;5;28;43mself\u001b[39;49m\u001b[38;5;241;43m.\u001b[39;49m\u001b[43m_event_pipe\u001b[49m\u001b[38;5;241;43m.\u001b[39;49m\u001b[43msend\u001b[49m\u001b[43m(\u001b[49m\u001b[38;5;124;43mb\u001b[39;49m\u001b[38;5;124;43m\"\u001b[39;49m\u001b[38;5;124;43m\"\u001b[39;49m\u001b[43m)\u001b[49m\n\u001b[0;32m    212\u001b[0m \u001b[38;5;28;01melse\u001b[39;00m:\n\u001b[0;32m    213\u001b[0m     f()\n",
      "File \u001b[1;32m~\\AppData\\Local\\Packages\\PythonSoftwareFoundation.Python.3.11_qbz5n2kfra8p0\\LocalCache\\local-packages\\Python311\\site-packages\\zmq\\sugar\\socket.py:688\u001b[0m, in \u001b[0;36mSocket.send\u001b[1;34m(self, data, flags, copy, track, routing_id, group)\u001b[0m\n\u001b[0;32m    681\u001b[0m         data \u001b[38;5;241m=\u001b[39m zmq\u001b[38;5;241m.\u001b[39mFrame(\n\u001b[0;32m    682\u001b[0m             data,\n\u001b[0;32m    683\u001b[0m             track\u001b[38;5;241m=\u001b[39mtrack,\n\u001b[0;32m    684\u001b[0m             copy\u001b[38;5;241m=\u001b[39mcopy \u001b[38;5;129;01mor\u001b[39;00m \u001b[38;5;28;01mNone\u001b[39;00m,\n\u001b[0;32m    685\u001b[0m             copy_threshold\u001b[38;5;241m=\u001b[39m\u001b[38;5;28mself\u001b[39m\u001b[38;5;241m.\u001b[39mcopy_threshold,\n\u001b[0;32m    686\u001b[0m         )\n\u001b[0;32m    687\u001b[0m     data\u001b[38;5;241m.\u001b[39mgroup \u001b[38;5;241m=\u001b[39m group\n\u001b[1;32m--> 688\u001b[0m \u001b[38;5;28;01mreturn\u001b[39;00m \u001b[38;5;28;43msuper\u001b[39;49m\u001b[43m(\u001b[49m\u001b[43m)\u001b[49m\u001b[38;5;241;43m.\u001b[39;49m\u001b[43msend\u001b[49m\u001b[43m(\u001b[49m\u001b[43mdata\u001b[49m\u001b[43m,\u001b[49m\u001b[43m \u001b[49m\u001b[43mflags\u001b[49m\u001b[38;5;241;43m=\u001b[39;49m\u001b[43mflags\u001b[49m\u001b[43m,\u001b[49m\u001b[43m \u001b[49m\u001b[43mcopy\u001b[49m\u001b[38;5;241;43m=\u001b[39;49m\u001b[43mcopy\u001b[49m\u001b[43m,\u001b[49m\u001b[43m \u001b[49m\u001b[43mtrack\u001b[49m\u001b[38;5;241;43m=\u001b[39;49m\u001b[43mtrack\u001b[49m\u001b[43m)\u001b[49m\n",
      "File \u001b[1;32mzmq\\backend\\cython\\socket.pyx:742\u001b[0m, in \u001b[0;36mzmq.backend.cython.socket.Socket.send\u001b[1;34m()\u001b[0m\n",
      "File \u001b[1;32mzmq\\backend\\cython\\socket.pyx:789\u001b[0m, in \u001b[0;36mzmq.backend.cython.socket.Socket.send\u001b[1;34m()\u001b[0m\n",
      "File \u001b[1;32mzmq\\backend\\cython\\socket.pyx:250\u001b[0m, in \u001b[0;36mzmq.backend.cython.socket._send_copy\u001b[1;34m()\u001b[0m\n",
      "File \u001b[1;32m~\\AppData\\Local\\Packages\\PythonSoftwareFoundation.Python.3.11_qbz5n2kfra8p0\\LocalCache\\local-packages\\Python311\\site-packages\\zmq\\backend\\cython\\checkrc.pxd:13\u001b[0m, in \u001b[0;36mzmq.backend.cython.checkrc._check_rc\u001b[1;34m()\u001b[0m\n",
      "\u001b[1;31mKeyboardInterrupt\u001b[0m: "
     ]
    },
    {
     "data": {
      "text/plain": [
       "<Figure size 640x480 with 0 Axes>"
      ]
     },
     "metadata": {},
     "output_type": "display_data"
    }
   ],
   "source": [
    "PLOT = True\n",
    "\n",
    "total_steps_done = 0\n",
    "episode_rewards = np.zeros(EPISODES)\n",
    "for i_episode in range(EPISODES):\n",
    "    # print(f\"TRAINING EPISODE {i_episode}...\")\n",
    "\n",
    "    # initial state\n",
    "    state, info = env.reset()\n",
    "    state = torch.tensor(state, dtype=torch.float32).unsqueeze(0)\n",
    "\n",
    "    # take steps until done with episode\n",
    "    for time_step in itertools.count():\n",
    "\n",
    "        # select best action based on state with epsilon-greedy\n",
    "        action = torch.tensor([[env.action_space.sample()]])\n",
    "        if np.random.random() > EPS_END + (EPS_START - EPS_END) * np.exp(-1. * total_steps_done / EPS_DECAY):\n",
    "            with torch.no_grad():\n",
    "                action = policy_net(state).max(1).indices.view(1, 1)\n",
    "        total_steps_done += 1\n",
    "\n",
    "        # get the results of the action\n",
    "        observation, reward, terminated, truncated, _ = env.step(action.item())\n",
    "        reward = torch.tensor([reward])\n",
    "        done = terminated or truncated\n",
    "        next_state = None if terminated else torch.tensor(observation, dtype=torch.float32).unsqueeze(0)\n",
    "        episode_rewards[i_episode] += reward\n",
    "\n",
    "        # store the transition and move to the next state\n",
    "        memory.push(state, action, next_state, reward)\n",
    "        state = next_state\n",
    "\n",
    "        # optimize the policy network and update the target network's weights\n",
    "        optimize_model()\n",
    "        target_net_state_dict = target_net.state_dict()\n",
    "        policy_net_state_dict = policy_net.state_dict()\n",
    "        for key in policy_net_state_dict:\n",
    "            target_net_state_dict[key] = policy_net_state_dict[key]*TAU + target_net_state_dict[key]*(1-TAU)\n",
    "        target_net.load_state_dict(target_net_state_dict)\n",
    "\n",
    "        if done:\n",
    "            # print episode winner\n",
    "            # print(f\"FINISHED EPISODE {i_episode} WITH REWARD {reward}.\")\n",
    "            # print()\n",
    "            \n",
    "            # plot moving average of most recent episode rewards\n",
    "            if PLOT:\n",
    "                plot_results(i_episode, episode_rewards)\n",
    "                IPython.display.display(plt.gcf())\n",
    "                IPython.display.clear_output(wait=True)\n",
    "            break\n",
    "\n",
    "# print(\"COMPLETE\")\n",
    "if PLOT:\n",
    "    plot_results(i_episode, episode_rewards)\n",
    "    plt.ioff()\n",
    "    plt.show()"
   ]
  },
  {
   "cell_type": "code",
   "execution_count": 8,
   "metadata": {},
   "outputs": [
    {
     "name": "stdout",
     "output_type": "stream",
     "text": [
      "Rogue has 5.000/5.000 hp and position 0.000.\n",
      "Fighter has 3.000/3.000 hp and position 27.952.\n",
      "\n",
      "Rogue took action HEAL. Fighter took action MOVE.\n",
      "Rogue has 5.000/5.000 hp and position 0.000.\n",
      "Fighter has 3.000/3.000 hp and position 26.952.\n",
      "\n",
      "Rogue took action HEAL. Fighter took action MOVE.\n",
      "Rogue has 5.000/5.000 hp and position 0.000.\n",
      "Fighter has 3.000/3.000 hp and position 25.952.\n",
      "\n",
      "Rogue took action MOVE. Fighter took action MOVE.\n",
      "Rogue has 5.000/5.000 hp and position 0.000.\n",
      "Fighter has 3.000/3.000 hp and position 24.952.\n",
      "\n",
      "Rogue took action MOVE. Fighter took action MOVE.\n",
      "Rogue has 5.000/5.000 hp and position 0.000.\n",
      "Fighter has 3.000/3.000 hp and position 23.952.\n",
      "\n",
      "Rogue took action MOVE. Fighter took action MOVE.\n",
      "Rogue has 5.000/5.000 hp and position 0.000.\n",
      "Fighter has 3.000/3.000 hp and position 22.952.\n",
      "\n",
      "Rogue took action ATTACK. Fighter took action MOVE.\n",
      "Rogue has 5.000/5.000 hp and position 0.000.\n",
      "Fighter has 3.000/3.000 hp and position 21.952.\n",
      "\n",
      "Rogue took action MOVE. Fighter took action MOVE.\n",
      "Rogue has 5.000/5.000 hp and position 0.000.\n",
      "Fighter has 3.000/3.000 hp and position 20.952.\n",
      "\n",
      "Rogue took action ATTACK. Fighter took action MOVE.\n",
      "Rogue has 5.000/5.000 hp and position 0.000.\n",
      "Fighter has 3.000/3.000 hp and position 19.952.\n",
      "\n",
      "Rogue took action ATTACK. Fighter took action MOVE.\n",
      "Rogue has 5.000/5.000 hp and position 0.000.\n",
      "Fighter has 3.000/3.000 hp and position 18.952.\n",
      "\n",
      "Rogue took action ATTACK. Fighter took action MOVE.\n",
      "Rogue has 5.000/5.000 hp and position 0.000.\n",
      "Fighter has 3.000/3.000 hp and position 17.952.\n",
      "\n",
      "Rogue took action MOVE. Fighter took action MOVE.\n",
      "Rogue has 5.000/5.000 hp and position 0.000.\n",
      "Fighter has 3.000/3.000 hp and position 16.952.\n",
      "\n",
      "Rogue took action ATTACK. Fighter took action MOVE.\n",
      "Rogue has 5.000/5.000 hp and position 0.000.\n",
      "Fighter has 3.000/3.000 hp and position 15.952.\n",
      "\n",
      "Rogue took action ATTACK. Fighter took action MOVE.\n",
      "Rogue has 5.000/5.000 hp and position 0.000.\n",
      "Fighter has 3.000/3.000 hp and position 14.952.\n",
      "\n",
      "Rogue took action ATTACK. Fighter took action MOVE.\n",
      "Rogue has 5.000/5.000 hp and position 0.000.\n",
      "Fighter has 3.000/3.000 hp and position 13.952.\n",
      "\n",
      "Rogue took action ATTACK. Fighter took action MOVE.\n",
      "Rogue has 5.000/5.000 hp and position 0.000.\n",
      "Fighter has 3.000/3.000 hp and position 12.952.\n",
      "\n",
      "Rogue took action HEAL. Fighter took action MOVE.\n",
      "Rogue has 5.000/5.000 hp and position 0.000.\n",
      "Fighter has 3.000/3.000 hp and position 11.952.\n",
      "\n",
      "Rogue took action ATTACK. Fighter took action MOVE.\n",
      "Rogue has 5.000/5.000 hp and position 0.000.\n",
      "Fighter has 3.000/3.000 hp and position 10.952.\n",
      "\n",
      "Rogue took action MOVE. Fighter took action MOVE.\n",
      "Rogue has 5.000/5.000 hp and position 0.000.\n",
      "Fighter has 3.000/3.000 hp and position 9.952.\n",
      "\n",
      "Rogue took action ATTACK. Fighter took action MOVE.\n",
      "Rogue has 5.000/5.000 hp and position 0.000.\n",
      "Fighter has 3.000/3.000 hp and position 8.952.\n",
      "\n",
      "Rogue took action ATTACK. Fighter took action MOVE.\n",
      "Rogue has 5.000/5.000 hp and position 0.000.\n",
      "Fighter has 3.000/3.000 hp and position 7.952.\n",
      "\n",
      "Rogue took action ATTACK. Fighter took action MOVE.\n",
      "Rogue has 5.000/5.000 hp and position 0.000.\n",
      "Fighter has 3.000/3.000 hp and position 6.952.\n",
      "\n",
      "Rogue took action ATTACK. Fighter took action MOVE.\n",
      "Rogue has 5.000/5.000 hp and position 0.000.\n",
      "Fighter has 3.000/3.000 hp and position 5.952.\n",
      "\n",
      "Rogue took action ATTACK. Fighter took action MOVE.\n",
      "Rogue has 5.000/5.000 hp and position 0.000.\n",
      "Fighter has 3.000/3.000 hp and position 4.952.\n",
      "\n",
      "Rogue took action MOVE. Fighter took action MOVE.\n",
      "Rogue has 5.000/5.000 hp and position 0.000.\n",
      "Fighter has 3.000/3.000 hp and position 3.952.\n",
      "\n",
      "Rogue took action MOVE. Fighter took action MOVE.\n",
      "Rogue has 5.000/5.000 hp and position 0.000.\n",
      "Fighter has 3.000/3.000 hp and position 2.952.\n",
      "\n",
      "Rogue took action HEAL. Fighter took action MOVE.\n",
      "Rogue has 5.000/5.000 hp and position 0.000.\n",
      "Fighter has 3.000/3.000 hp and position 1.952.\n",
      "\n",
      "Rogue took action ATTACK. Fighter took action MOVE.\n",
      "Rogue has 5.000/5.000 hp and position 0.000.\n",
      "Fighter has 3.000/3.000 hp and position 0.952.\n",
      "\n",
      "Rogue took action ATTACK. Fighter took action ATTACK.\n",
      "Rogue has 4.000/5.000 hp and position 0.000.\n",
      "Fighter has 2.000/3.000 hp and position 0.952.\n",
      "\n",
      "Rogue took action ATTACK. Fighter took action ATTACK.\n",
      "Rogue has 3.000/5.000 hp and position 0.000.\n",
      "Fighter has 1.000/3.000 hp and position 0.952.\n",
      "\n",
      "Rogue took action ATTACK. Fighter took action DIES.\n",
      "Rogue has 3.000/5.000 hp and position 0.000.\n",
      "Fighter has 0.000/3.000 hp and position 0.952.\n",
      "\n"
     ]
    },
    {
     "name": "stderr",
     "output_type": "stream",
     "text": [
      "C:\\Users\\brand\\AppData\\Local\\Packages\\PythonSoftwareFoundation.Python.3.11_qbz5n2kfra8p0\\LocalCache\\local-packages\\Python311\\site-packages\\gymnasium\\utils\\passive_env_checker.py:135: UserWarning: \u001b[33mWARN: The obs returned by the `reset()` method was expecting numpy array dtype to be float32, actual type: float64\u001b[0m\n",
      "  logger.warn(\n",
      "C:\\Users\\brand\\AppData\\Local\\Packages\\PythonSoftwareFoundation.Python.3.11_qbz5n2kfra8p0\\LocalCache\\local-packages\\Python311\\site-packages\\gymnasium\\utils\\passive_env_checker.py:159: UserWarning: \u001b[33mWARN: The obs returned by the `reset()` method is not within the observation space.\u001b[0m\n",
      "  logger.warn(f\"{pre} is not within the observation space.\")\n"
     ]
    }
   ],
   "source": [
    "PLOT = True\n",
    "\n",
    "env_render = gym.make(\"skirmish_env:Skirmish-v0\", render_mode=\"human\")\n",
    "state, info = env_render.reset()\n",
    "state = torch.tensor(state, dtype=torch.float32).unsqueeze(0)\n",
    "\n",
    "# take steps until done with episode\n",
    "for time_step in itertools.count():\n",
    "\n",
    "    # select best action based on state with epsilon-greedy\n",
    "    action = torch.tensor([[env_render.action_space.sample()]])\n",
    "    if np.random.random() > EPS_END + (EPS_START - EPS_END) * np.exp(-1. * total_steps_done / EPS_DECAY):\n",
    "        with torch.no_grad():\n",
    "            action = policy_net(state).max(1).indices.view(1, 1)\n",
    "    total_steps_done += 1\n",
    "\n",
    "    # get the results of the action\n",
    "    observation, reward, terminated, truncated, _ = env_render.step(action.item())\n",
    "    reward = torch.tensor([reward])\n",
    "    done = terminated or truncated\n",
    "    next_state = None if terminated else torch.tensor(observation, dtype=torch.float32).unsqueeze(0)\n",
    "    episode_rewards[i_episode] += reward\n",
    "    state = next_state\n",
    "\n",
    "    if done:\n",
    "        break"
   ]
  }
 ],
 "metadata": {
  "kernelspec": {
   "display_name": "Python 3",
   "language": "python",
   "name": "python3"
  },
  "language_info": {
   "codemirror_mode": {
    "name": "ipython",
    "version": 3
   },
   "file_extension": ".py",
   "mimetype": "text/x-python",
   "name": "python",
   "nbconvert_exporter": "python",
   "pygments_lexer": "ipython3",
   "version": "3.11.9"
  }
 },
 "nbformat": 4,
 "nbformat_minor": 2
}
